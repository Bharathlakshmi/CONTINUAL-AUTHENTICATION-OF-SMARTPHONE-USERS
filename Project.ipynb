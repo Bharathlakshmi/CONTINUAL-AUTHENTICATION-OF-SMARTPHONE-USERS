{
  "nbformat": 4,
  "nbformat_minor": 0,
  "metadata": {
    "colab": {
      "provenance": []
    },
    "kernelspec": {
      "name": "python3",
      "display_name": "Python 3"
    },
    "language_info": {
      "name": "python"
    },
    "widgets": {
      "application/vnd.jupyter.widget-state+json": {
        "510f0ba798cc450d933a460944416f88": {
          "model_module": "@jupyter-widgets/controls",
          "model_name": "HBoxModel",
          "model_module_version": "1.5.0",
          "state": {
            "_view_name": "HBoxView",
            "_dom_classes": [],
            "_model_name": "HBoxModel",
            "_view_module": "@jupyter-widgets/controls",
            "_model_module_version": "1.5.0",
            "_view_count": null,
            "_view_module_version": "1.5.0",
            "box_style": "",
            "layout": "IPY_MODEL_51b3040009744a99a845b6ce8b4868e4",
            "_model_module": "@jupyter-widgets/controls",
            "children": [
              "IPY_MODEL_3c3033498fc9459b81e02de5c2284861",
              "IPY_MODEL_45c59c1d64354dfca643f101872a3f78",
              "IPY_MODEL_fff15ca589804755a55c0ee0528d9d42"
            ]
          }
        },
        "51b3040009744a99a845b6ce8b4868e4": {
          "model_module": "@jupyter-widgets/base",
          "model_name": "LayoutModel",
          "model_module_version": "1.2.0",
          "state": {
            "_view_name": "LayoutView",
            "grid_template_rows": null,
            "right": null,
            "justify_content": null,
            "_view_module": "@jupyter-widgets/base",
            "overflow": null,
            "_model_module_version": "1.2.0",
            "_view_count": null,
            "flex_flow": null,
            "width": null,
            "min_width": null,
            "border": null,
            "align_items": null,
            "bottom": null,
            "_model_module": "@jupyter-widgets/base",
            "top": null,
            "grid_column": null,
            "overflow_y": null,
            "overflow_x": null,
            "grid_auto_flow": null,
            "grid_area": null,
            "grid_template_columns": null,
            "flex": null,
            "_model_name": "LayoutModel",
            "justify_items": null,
            "grid_row": null,
            "max_height": null,
            "align_content": null,
            "visibility": null,
            "align_self": null,
            "height": null,
            "min_height": null,
            "padding": null,
            "grid_auto_rows": null,
            "grid_gap": null,
            "max_width": null,
            "order": null,
            "_view_module_version": "1.2.0",
            "grid_template_areas": null,
            "object_position": null,
            "object_fit": null,
            "grid_auto_columns": null,
            "margin": null,
            "display": null,
            "left": null
          }
        },
        "3c3033498fc9459b81e02de5c2284861": {
          "model_module": "@jupyter-widgets/controls",
          "model_name": "HTMLModel",
          "model_module_version": "1.5.0",
          "state": {
            "_view_name": "HTMLView",
            "style": "IPY_MODEL_8e3bcf2d00a8403b8560087249d262e5",
            "_dom_classes": [],
            "description": "",
            "_model_name": "HTMLModel",
            "placeholder": "​",
            "_view_module": "@jupyter-widgets/controls",
            "_model_module_version": "1.5.0",
            "value": "Charts are being ready: 100%",
            "_view_count": null,
            "_view_module_version": "1.5.0",
            "description_tooltip": null,
            "_model_module": "@jupyter-widgets/controls",
            "layout": "IPY_MODEL_d3c8d3a1a10740b983405bfe8cd5581d"
          }
        },
        "45c59c1d64354dfca643f101872a3f78": {
          "model_module": "@jupyter-widgets/controls",
          "model_name": "FloatProgressModel",
          "model_module_version": "1.5.0",
          "state": {
            "_view_name": "ProgressView",
            "style": "IPY_MODEL_7a4dd498d5e7497694705c001e235e1a",
            "_dom_classes": [],
            "description": "",
            "_model_name": "FloatProgressModel",
            "bar_style": "success",
            "max": 8,
            "_view_module": "@jupyter-widgets/controls",
            "_model_module_version": "1.5.0",
            "value": 8,
            "_view_count": null,
            "_view_module_version": "1.5.0",
            "orientation": "horizontal",
            "min": 0,
            "description_tooltip": null,
            "_model_module": "@jupyter-widgets/controls",
            "layout": "IPY_MODEL_dd8bab8f8a054ad89a33a378656e0d5e"
          }
        },
        "fff15ca589804755a55c0ee0528d9d42": {
          "model_module": "@jupyter-widgets/controls",
          "model_name": "HTMLModel",
          "model_module_version": "1.5.0",
          "state": {
            "_view_name": "HTMLView",
            "style": "IPY_MODEL_d7e85882c3c14b81bc6edc0170765c3a",
            "_dom_classes": [],
            "description": "",
            "_model_name": "HTMLModel",
            "placeholder": "​",
            "_view_module": "@jupyter-widgets/controls",
            "_model_module_version": "1.5.0",
            "value": " 8/8 [00:02&lt;00:00,  4.13it/s]",
            "_view_count": null,
            "_view_module_version": "1.5.0",
            "description_tooltip": null,
            "_model_module": "@jupyter-widgets/controls",
            "layout": "IPY_MODEL_c3f2176b5251411da04f2cb99e3a3b9c"
          }
        },
        "8e3bcf2d00a8403b8560087249d262e5": {
          "model_module": "@jupyter-widgets/controls",
          "model_name": "DescriptionStyleModel",
          "model_module_version": "1.5.0",
          "state": {
            "_view_name": "StyleView",
            "_model_name": "DescriptionStyleModel",
            "description_width": "",
            "_view_module": "@jupyter-widgets/base",
            "_model_module_version": "1.5.0",
            "_view_count": null,
            "_view_module_version": "1.2.0",
            "_model_module": "@jupyter-widgets/controls"
          }
        },
        "d3c8d3a1a10740b983405bfe8cd5581d": {
          "model_module": "@jupyter-widgets/base",
          "model_name": "LayoutModel",
          "model_module_version": "1.2.0",
          "state": {
            "_view_name": "LayoutView",
            "grid_template_rows": null,
            "right": null,
            "justify_content": null,
            "_view_module": "@jupyter-widgets/base",
            "overflow": null,
            "_model_module_version": "1.2.0",
            "_view_count": null,
            "flex_flow": null,
            "width": null,
            "min_width": null,
            "border": null,
            "align_items": null,
            "bottom": null,
            "_model_module": "@jupyter-widgets/base",
            "top": null,
            "grid_column": null,
            "overflow_y": null,
            "overflow_x": null,
            "grid_auto_flow": null,
            "grid_area": null,
            "grid_template_columns": null,
            "flex": null,
            "_model_name": "LayoutModel",
            "justify_items": null,
            "grid_row": null,
            "max_height": null,
            "align_content": null,
            "visibility": null,
            "align_self": null,
            "height": null,
            "min_height": null,
            "padding": null,
            "grid_auto_rows": null,
            "grid_gap": null,
            "max_width": null,
            "order": null,
            "_view_module_version": "1.2.0",
            "grid_template_areas": null,
            "object_position": null,
            "object_fit": null,
            "grid_auto_columns": null,
            "margin": null,
            "display": null,
            "left": null
          }
        },
        "7a4dd498d5e7497694705c001e235e1a": {
          "model_module": "@jupyter-widgets/controls",
          "model_name": "ProgressStyleModel",
          "model_module_version": "1.5.0",
          "state": {
            "_view_name": "StyleView",
            "_model_name": "ProgressStyleModel",
            "description_width": "",
            "_view_module": "@jupyter-widgets/base",
            "_model_module_version": "1.5.0",
            "_view_count": null,
            "_view_module_version": "1.2.0",
            "bar_color": null,
            "_model_module": "@jupyter-widgets/controls"
          }
        },
        "dd8bab8f8a054ad89a33a378656e0d5e": {
          "model_module": "@jupyter-widgets/base",
          "model_name": "LayoutModel",
          "model_module_version": "1.2.0",
          "state": {
            "_view_name": "LayoutView",
            "grid_template_rows": null,
            "right": null,
            "justify_content": null,
            "_view_module": "@jupyter-widgets/base",
            "overflow": null,
            "_model_module_version": "1.2.0",
            "_view_count": null,
            "flex_flow": null,
            "width": null,
            "min_width": null,
            "border": null,
            "align_items": null,
            "bottom": null,
            "_model_module": "@jupyter-widgets/base",
            "top": null,
            "grid_column": null,
            "overflow_y": null,
            "overflow_x": null,
            "grid_auto_flow": null,
            "grid_area": null,
            "grid_template_columns": null,
            "flex": null,
            "_model_name": "LayoutModel",
            "justify_items": null,
            "grid_row": null,
            "max_height": null,
            "align_content": null,
            "visibility": null,
            "align_self": null,
            "height": null,
            "min_height": null,
            "padding": null,
            "grid_auto_rows": null,
            "grid_gap": null,
            "max_width": null,
            "order": null,
            "_view_module_version": "1.2.0",
            "grid_template_areas": null,
            "object_position": null,
            "object_fit": null,
            "grid_auto_columns": null,
            "margin": null,
            "display": null,
            "left": null
          }
        },
        "d7e85882c3c14b81bc6edc0170765c3a": {
          "model_module": "@jupyter-widgets/controls",
          "model_name": "DescriptionStyleModel",
          "model_module_version": "1.5.0",
          "state": {
            "_view_name": "StyleView",
            "_model_name": "DescriptionStyleModel",
            "description_width": "",
            "_view_module": "@jupyter-widgets/base",
            "_model_module_version": "1.5.0",
            "_view_count": null,
            "_view_module_version": "1.2.0",
            "_model_module": "@jupyter-widgets/controls"
          }
        },
        "c3f2176b5251411da04f2cb99e3a3b9c": {
          "model_module": "@jupyter-widgets/base",
          "model_name": "LayoutModel",
          "model_module_version": "1.2.0",
          "state": {
            "_view_name": "LayoutView",
            "grid_template_rows": null,
            "right": null,
            "justify_content": null,
            "_view_module": "@jupyter-widgets/base",
            "overflow": null,
            "_model_module_version": "1.2.0",
            "_view_count": null,
            "flex_flow": null,
            "width": null,
            "min_width": null,
            "border": null,
            "align_items": null,
            "bottom": null,
            "_model_module": "@jupyter-widgets/base",
            "top": null,
            "grid_column": null,
            "overflow_y": null,
            "overflow_x": null,
            "grid_auto_flow": null,
            "grid_area": null,
            "grid_template_columns": null,
            "flex": null,
            "_model_name": "LayoutModel",
            "justify_items": null,
            "grid_row": null,
            "max_height": null,
            "align_content": null,
            "visibility": null,
            "align_self": null,
            "height": null,
            "min_height": null,
            "padding": null,
            "grid_auto_rows": null,
            "grid_gap": null,
            "max_width": null,
            "order": null,
            "_view_module_version": "1.2.0",
            "grid_template_areas": null,
            "object_position": null,
            "object_fit": null,
            "grid_auto_columns": null,
            "margin": null,
            "display": null,
            "left": null
          }
        }
      }
    }
  },
  "cells": [
    {
      "cell_type": "code",
      "metadata": {
        "colab": {
          "resources": {
            "http://localhost:8080/nbextensions/google.colab/files.js": {
              "data": "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",
              "ok": true,
              "headers": [
                [
                  "content-type",
                  "application/javascript"
                ]
              ],
              "status": 200,
              "status_text": "OK"
            }
          },
          "base_uri": "https://localhost:8080/",
          "height": 73
        },
        "id": "DCj8MVfMCb7_",
        "outputId": "4f7b1ce3-033f-4a4e-e6e0-972299cd7d55"
      },
      "source": [
        "from google.colab import files\n",
        "uploaded = files.upload()"
      ],
      "execution_count": null,
      "outputs": [
        {
          "output_type": "display_data",
          "data": {
            "text/html": [
              "\n",
              "     <input type=\"file\" id=\"files-d504e712-2230-4692-ab3b-8a95fb4a2588\" name=\"files[]\" multiple disabled\n",
              "        style=\"border:none\" />\n",
              "     <output id=\"result-d504e712-2230-4692-ab3b-8a95fb4a2588\">\n",
              "      Upload widget is only available when the cell has been executed in the\n",
              "      current browser session. Please rerun this cell to enable.\n",
              "      </output>\n",
              "      <script src=\"/nbextensions/google.colab/files.js\"></script> "
            ],
            "text/plain": [
              "<IPython.core.display.HTML object>"
            ]
          },
          "metadata": {}
        },
        {
          "output_type": "stream",
          "name": "stdout",
          "text": [
            "Saving csv_result-PersonalitySwipes_full (1).csv to csv_result-PersonalitySwipes_full (1).csv\n"
          ]
        }
      ]
    },
    {
      "cell_type": "code",
      "metadata": {
        "colab": {
          "base_uri": "https://localhost:8080/",
          "height": 563
        },
        "id": "dk0lR91EC5Nc",
        "outputId": "2c4fdf3f-dd44-44c9-9dfd-a7deaa9b779e"
      },
      "source": [
        "import pandas as pd\n",
        "import numpy as np\n",
        "from sklearn.model_selection import train_test_split\n",
        "ds=pd.read_csv('/content/csv_result-PersonalitySwipes_full (1).csv')\n",
        "print(ds)\n",
        "ds.describe()"
      ],
      "execution_count": null,
      "outputs": [
        {
          "output_type": "stream",
          "name": "stdout",
          "text": [
            "        id  questionid  touchexperience  answer  ...   P  L  EN  userid\n",
            "0        1           1                5       0  ...  20  4   1       1\n",
            "1        2           2                5       1  ...  20  4   1       1\n",
            "2        3           3                5       1  ...  20  4   1       1\n",
            "3        4           4                5       1  ...  20  4   1       1\n",
            "4        5           5                5       0  ...  20  4   1       1\n",
            "...    ...         ...              ...     ...  ...  .. ..  ..     ...\n",
            "5679  5680          54                4       0  ...  16  6   4     422\n",
            "5680  5681          55                4       0  ...  16  6   4     422\n",
            "5681  5682          56                4       0  ...  16  6   4     422\n",
            "5682  5683          57                4       1  ...  16  6   4     422\n",
            "5683  5684          58                4       0  ...  16  6   4     422\n",
            "\n",
            "[5684 rows x 22 columns]\n"
          ]
        },
        {
          "output_type": "execute_result",
          "data": {
            "text/html": [
              "<div>\n",
              "<style scoped>\n",
              "    .dataframe tbody tr th:only-of-type {\n",
              "        vertical-align: middle;\n",
              "    }\n",
              "\n",
              "    .dataframe tbody tr th {\n",
              "        vertical-align: top;\n",
              "    }\n",
              "\n",
              "    .dataframe thead th {\n",
              "        text-align: right;\n",
              "    }\n",
              "</style>\n",
              "<table border=\"1\" class=\"dataframe\">\n",
              "  <thead>\n",
              "    <tr style=\"text-align: right;\">\n",
              "      <th></th>\n",
              "      <th>id</th>\n",
              "      <th>questionid</th>\n",
              "      <th>touchexperience</th>\n",
              "      <th>answer</th>\n",
              "      <th>answerpercent</th>\n",
              "      <th>duration</th>\n",
              "      <th>length_of_trajectory</th>\n",
              "      <th>average_velocity</th>\n",
              "      <th>accelerationatstart</th>\n",
              "      <th>midstrokenpressure</th>\n",
              "      <th>midstrokefingerarea</th>\n",
              "      <th>meanpressure</th>\n",
              "      <th>meanfingerarea</th>\n",
              "      <th>meangx</th>\n",
              "      <th>meangy</th>\n",
              "      <th>meangz</th>\n",
              "      <th>E</th>\n",
              "      <th>N</th>\n",
              "      <th>P</th>\n",
              "      <th>L</th>\n",
              "      <th>EN</th>\n",
              "      <th>userid</th>\n",
              "    </tr>\n",
              "  </thead>\n",
              "  <tbody>\n",
              "    <tr>\n",
              "      <th>count</th>\n",
              "      <td>5684.000000</td>\n",
              "      <td>5684.000000</td>\n",
              "      <td>5684.000000</td>\n",
              "      <td>5684.000000</td>\n",
              "      <td>5684.000000</td>\n",
              "      <td>5684.000000</td>\n",
              "      <td>5684.000000</td>\n",
              "      <td>5684.000000</td>\n",
              "      <td>5684.000000</td>\n",
              "      <td>5684.000000</td>\n",
              "      <td>5684.000000</td>\n",
              "      <td>5684.000000</td>\n",
              "      <td>5684.000000</td>\n",
              "      <td>5684.000000</td>\n",
              "      <td>5684.000000</td>\n",
              "      <td>5684.000000</td>\n",
              "      <td>5684.000000</td>\n",
              "      <td>5684.000000</td>\n",
              "      <td>5684.000000</td>\n",
              "      <td>5684.000000</td>\n",
              "      <td>5684.000000</td>\n",
              "      <td>5684.000000</td>\n",
              "    </tr>\n",
              "    <tr>\n",
              "      <th>mean</th>\n",
              "      <td>2842.500000</td>\n",
              "      <td>29.500000</td>\n",
              "      <td>3.867347</td>\n",
              "      <td>0.576003</td>\n",
              "      <td>70.368578</td>\n",
              "      <td>629.638987</td>\n",
              "      <td>312.284445</td>\n",
              "      <td>0.785409</td>\n",
              "      <td>0.001866</td>\n",
              "      <td>0.513090</td>\n",
              "      <td>0.308183</td>\n",
              "      <td>0.436751</td>\n",
              "      <td>0.300637</td>\n",
              "      <td>0.080275</td>\n",
              "      <td>4.704145</td>\n",
              "      <td>7.435069</td>\n",
              "      <td>17.897959</td>\n",
              "      <td>22.897959</td>\n",
              "      <td>20.632653</td>\n",
              "      <td>5.387755</td>\n",
              "      <td>2.010204</td>\n",
              "      <td>195.622449</td>\n",
              "    </tr>\n",
              "    <tr>\n",
              "      <th>std</th>\n",
              "      <td>1640.973796</td>\n",
              "      <td>16.742142</td>\n",
              "      <td>1.139718</td>\n",
              "      <td>0.494233</td>\n",
              "      <td>29.684886</td>\n",
              "      <td>729.950591</td>\n",
              "      <td>175.086166</td>\n",
              "      <td>0.576789</td>\n",
              "      <td>0.024381</td>\n",
              "      <td>0.231346</td>\n",
              "      <td>0.097595</td>\n",
              "      <td>0.183952</td>\n",
              "      <td>0.084146</td>\n",
              "      <td>1.068598</td>\n",
              "      <td>3.304332</td>\n",
              "      <td>2.578949</td>\n",
              "      <td>8.434747</td>\n",
              "      <td>8.142934</td>\n",
              "      <td>5.311964</td>\n",
              "      <td>2.776355</td>\n",
              "      <td>1.129438</td>\n",
              "      <td>155.567306</td>\n",
              "    </tr>\n",
              "    <tr>\n",
              "      <th>min</th>\n",
              "      <td>1.000000</td>\n",
              "      <td>1.000000</td>\n",
              "      <td>1.000000</td>\n",
              "      <td>0.000000</td>\n",
              "      <td>0.000000</td>\n",
              "      <td>69.000000</td>\n",
              "      <td>3.386649</td>\n",
              "      <td>0.013905</td>\n",
              "      <td>-0.745245</td>\n",
              "      <td>0.057600</td>\n",
              "      <td>0.032258</td>\n",
              "      <td>0.070400</td>\n",
              "      <td>0.109677</td>\n",
              "      <td>-5.592955</td>\n",
              "      <td>-3.788495</td>\n",
              "      <td>-9.430910</td>\n",
              "      <td>0.000000</td>\n",
              "      <td>4.000000</td>\n",
              "      <td>6.000000</td>\n",
              "      <td>0.000000</td>\n",
              "      <td>1.000000</td>\n",
              "      <td>1.000000</td>\n",
              "    </tr>\n",
              "    <tr>\n",
              "      <th>25%</th>\n",
              "      <td>1421.750000</td>\n",
              "      <td>15.000000</td>\n",
              "      <td>3.000000</td>\n",
              "      <td>0.000000</td>\n",
              "      <td>44.000000</td>\n",
              "      <td>290.000000</td>\n",
              "      <td>196.233945</td>\n",
              "      <td>0.289622</td>\n",
              "      <td>0.000000</td>\n",
              "      <td>0.350400</td>\n",
              "      <td>0.225806</td>\n",
              "      <td>0.301890</td>\n",
              "      <td>0.240143</td>\n",
              "      <td>-0.422385</td>\n",
              "      <td>2.481851</td>\n",
              "      <td>6.569833</td>\n",
              "      <td>12.000000</td>\n",
              "      <td>16.000000</td>\n",
              "      <td>16.000000</td>\n",
              "      <td>4.000000</td>\n",
              "      <td>1.000000</td>\n",
              "      <td>32.000000</td>\n",
              "    </tr>\n",
              "    <tr>\n",
              "      <th>50%</th>\n",
              "      <td>2842.500000</td>\n",
              "      <td>29.500000</td>\n",
              "      <td>4.000000</td>\n",
              "      <td>1.000000</td>\n",
              "      <td>84.000000</td>\n",
              "      <td>447.000000</td>\n",
              "      <td>360.464385</td>\n",
              "      <td>0.657097</td>\n",
              "      <td>0.000606</td>\n",
              "      <td>0.494400</td>\n",
              "      <td>0.290323</td>\n",
              "      <td>0.406080</td>\n",
              "      <td>0.290323</td>\n",
              "      <td>0.162847</td>\n",
              "      <td>5.532712</td>\n",
              "      <td>7.959692</td>\n",
              "      <td>18.000000</td>\n",
              "      <td>22.000000</td>\n",
              "      <td>22.000000</td>\n",
              "      <td>6.000000</td>\n",
              "      <td>2.000000</td>\n",
              "      <td>205.500000</td>\n",
              "    </tr>\n",
              "    <tr>\n",
              "      <th>75%</th>\n",
              "      <td>4263.250000</td>\n",
              "      <td>44.000000</td>\n",
              "      <td>5.000000</td>\n",
              "      <td>1.000000</td>\n",
              "      <td>97.000000</td>\n",
              "      <td>717.000000</td>\n",
              "      <td>398.799835</td>\n",
              "      <td>1.173347</td>\n",
              "      <td>0.005302</td>\n",
              "      <td>0.662400</td>\n",
              "      <td>0.354839</td>\n",
              "      <td>0.540343</td>\n",
              "      <td>0.346774</td>\n",
              "      <td>0.618537</td>\n",
              "      <td>7.144040</td>\n",
              "      <td>9.286164</td>\n",
              "      <td>24.000000</td>\n",
              "      <td>30.000000</td>\n",
              "      <td>24.000000</td>\n",
              "      <td>8.000000</td>\n",
              "      <td>3.000000</td>\n",
              "      <td>319.000000</td>\n",
              "    </tr>\n",
              "    <tr>\n",
              "      <th>max</th>\n",
              "      <td>5684.000000</td>\n",
              "      <td>58.000000</td>\n",
              "      <td>5.000000</td>\n",
              "      <td>1.000000</td>\n",
              "      <td>101.000000</td>\n",
              "      <td>18262.000000</td>\n",
              "      <td>5101.321010</td>\n",
              "      <td>3.540814</td>\n",
              "      <td>0.519070</td>\n",
              "      <td>1.000000</td>\n",
              "      <td>1.000000</td>\n",
              "      <td>1.135200</td>\n",
              "      <td>0.754839</td>\n",
              "      <td>4.827444</td>\n",
              "      <td>9.788335</td>\n",
              "      <td>9.806500</td>\n",
              "      <td>32.000000</td>\n",
              "      <td>38.000000</td>\n",
              "      <td>30.000000</td>\n",
              "      <td>12.000000</td>\n",
              "      <td>4.000000</td>\n",
              "      <td>422.000000</td>\n",
              "    </tr>\n",
              "  </tbody>\n",
              "</table>\n",
              "</div>"
            ],
            "text/plain": [
              "                id   questionid  ...           EN       userid\n",
              "count  5684.000000  5684.000000  ...  5684.000000  5684.000000\n",
              "mean   2842.500000    29.500000  ...     2.010204   195.622449\n",
              "std    1640.973796    16.742142  ...     1.129438   155.567306\n",
              "min       1.000000     1.000000  ...     1.000000     1.000000\n",
              "25%    1421.750000    15.000000  ...     1.000000    32.000000\n",
              "50%    2842.500000    29.500000  ...     2.000000   205.500000\n",
              "75%    4263.250000    44.000000  ...     3.000000   319.000000\n",
              "max    5684.000000    58.000000  ...     4.000000   422.000000\n",
              "\n",
              "[8 rows x 22 columns]"
            ]
          },
          "metadata": {},
          "execution_count": 2
        }
      ]
    },
    {
      "cell_type": "code",
      "metadata": {
        "colab": {
          "base_uri": "https://localhost:8080/"
        },
        "id": "40RWb2JuDAbc",
        "outputId": "be651760-a6a3-4292-836c-ea0e8e7b8d79"
      },
      "source": [
        "print(\"Shape:\", ds.shape)\n",
        "print(\"\\nFeatures:\", ds.columns)\n",
        "\n",
        "# storing the feature matrix (X) and response vector (y)\n",
        "y=ds[ds.columns[-1]]\n",
        "x=ds[ds.columns[:-1]]\n",
        "# printing first 5 rows of feature matrix\n",
        "print(\"\\nFeature matrix:\\n\", x.head())\n",
        "# printing first 5 values of response vector\n",
        "print(\"\\nResponse vector:\\n\", y.head())"
      ],
      "execution_count": null,
      "outputs": [
        {
          "output_type": "stream",
          "name": "stdout",
          "text": [
            "Shape: (5684, 22)\n",
            "\n",
            "Features: Index(['id', 'questionid', 'touchexperience', 'answer', 'answerpercent',\n",
            "       'duration', 'length_of_trajectory', 'average_velocity',\n",
            "       'accelerationatstart', 'midstrokenpressure', 'midstrokefingerarea',\n",
            "       'meanpressure', 'meanfingerarea', 'meangx', 'meangy', 'meangz', 'E',\n",
            "       'N', 'P', 'L', 'EN', 'userid'],\n",
            "      dtype='object')\n",
            "\n",
            "Feature matrix:\n",
            "    id  questionid  touchexperience  answer  answerpercent  ...   E   N   P  L  EN\n",
            "0   1           1                5       0             96  ...  20  30  20  4   1\n",
            "1   2           2                5       1             97  ...  20  30  20  4   1\n",
            "2   3           3                5       1             95  ...  20  30  20  4   1\n",
            "3   4           4                5       1             95  ...  20  30  20  4   1\n",
            "4   5           5                5       0             55  ...  20  30  20  4   1\n",
            "\n",
            "[5 rows x 21 columns]\n",
            "\n",
            "Response vector:\n",
            " 0    1\n",
            "1    1\n",
            "2    1\n",
            "3    1\n",
            "4    1\n",
            "Name: userid, dtype: int64\n"
          ]
        }
      ]
    },
    {
      "cell_type": "markdown",
      "metadata": {
        "id": "112PNHXiDMBq"
      },
      "source": [
        "**Holdout validation**"
      ]
    },
    {
      "cell_type": "code",
      "metadata": {
        "colab": {
          "base_uri": "https://localhost:8080/"
        },
        "id": "UXdB-XloDNfE",
        "outputId": "adb181b6-8eb5-4f5d-b534-e9d2950791ff"
      },
      "source": [
        "# splitting X and y into training and testing sets\n",
        "from sklearn.model_selection import train_test_split\n",
        "x_train, x_test, y_train, y_test = train_test_split(x, y, test_size=0.2, random_state=1)\n",
        "\n",
        "# printing the shapes of the new X objects\n",
        "print(\"x_train shape: \",x_train.shape)\n",
        "print(\"x_test shape: \",x_test.shape)\n",
        "\n",
        "# printing the shapes of the new y objects\n",
        "print(\"y_train shape: \",y_train.shape)\n",
        "print(\"y_test shape: \",y_test.shape)"
      ],
      "execution_count": null,
      "outputs": [
        {
          "output_type": "stream",
          "name": "stdout",
          "text": [
            "x_train shape:  (4547, 21)\n",
            "x_test shape:  (1137, 21)\n",
            "y_train shape:  (4547,)\n",
            "y_test shape:  (1137,)\n"
          ]
        }
      ]
    },
    {
      "cell_type": "markdown",
      "metadata": {
        "id": "o924hbSIDZeS"
      },
      "source": [
        "**Normalizing the data**"
      ]
    },
    {
      "cell_type": "code",
      "metadata": {
        "id": "_DHO9JTWDZDJ"
      },
      "source": [
        "from sklearn.preprocessing import StandardScaler\n",
        "sc= StandardScaler()\n",
        "\n",
        "x_train = sc.fit_transform(x_train)\n",
        "x_test = sc.fit_transform(x_test)"
      ],
      "execution_count": null,
      "outputs": []
    },
    {
      "cell_type": "markdown",
      "metadata": {
        "id": "yqvRuzamd1P2"
      },
      "source": [
        "**Local Outlier factor(LOF)**"
      ]
    },
    {
      "cell_type": "code",
      "metadata": {
        "colab": {
          "base_uri": "https://localhost:8080/"
        },
        "id": "-tLTQ4Ua4YQv",
        "outputId": "49513eb1-1053-41c0-ebf5-fabee038727b"
      },
      "source": [
        "from sklearn.metrics.pairwise import pairwise_distances\n",
        "pairwise_distances(x,metric=\"manhattan\") # to check the distances"
      ],
      "execution_count": null,
      "outputs": [
        {
          "output_type": "execute_result",
          "data": {
            "text/plain": [
              "array([[   0.      ,  233.020747,  351.147556, ..., 6136.67484 ,\n",
              "        6265.368405, 6189.065471],\n",
              "       [ 233.020747,    0.      ,  120.191809, ..., 5908.191059,\n",
              "        6034.884624, 5963.446776],\n",
              "       [ 351.147556,  120.191809,    0.      , ..., 5815.114928,\n",
              "        5938.846459, 5871.129719],\n",
              "       ...,\n",
              "       [6136.67484 , 5908.191059, 5815.114928, ...,    0.      ,\n",
              "         129.278567,   58.513893],\n",
              "       [6265.368405, 6034.884624, 5938.846459, ...,  129.278567,\n",
              "           0.      ,   87.296608],\n",
              "       [6189.065471, 5963.446776, 5871.129719, ...,   58.513893,\n",
              "          87.296608,    0.      ]])"
            ]
          },
          "metadata": {},
          "execution_count": 6
        }
      ]
    },
    {
      "cell_type": "code",
      "metadata": {
        "colab": {
          "base_uri": "https://localhost:8080/"
        },
        "id": "d0AAQzl6r-5X",
        "outputId": "e8689efb-31d0-4d8e-8690-eeab26a9e46c"
      },
      "source": [
        "from sklearn.neighbors import LocalOutlierFactor\n",
        "lof = LocalOutlierFactor(n_neighbors = 7, novelty = True)\n",
        "lof.fit(x_train)\n",
        "decision = lof.decision_function(x_train)\n",
        "prediction = lof.predict(x_test)\n",
        "decision = lof.decision_function(x_test)\n",
        "maxDistance = max(decision)\n",
        "decision = decision /maxDistance\n",
        "print(\"prediction:\",prediction)\n",
        "print(\"decision:\",decision)\n"
      ],
      "execution_count": null,
      "outputs": [
        {
          "output_type": "stream",
          "name": "stdout",
          "text": [
            "prediction: [1 1 1 ... 1 1 1]\n",
            "decision: [0.8486048  0.89273975 0.84657217 ... 0.83098908 0.64049879 0.4759462 ]\n"
          ]
        }
      ]
    },
    {
      "cell_type": "markdown",
      "metadata": {
        "id": "JYCDgUUXFh9g"
      },
      "source": [
        "**MLP Classifier**"
      ]
    },
    {
      "cell_type": "code",
      "metadata": {
        "colab": {
          "base_uri": "https://localhost:8080/"
        },
        "id": "1g9sR3IQDk46",
        "outputId": "134d9136-b3cd-43f4-f0c5-b0f449a3a449"
      },
      "source": [
        "from sklearn.neural_network import MLPClassifier\n",
        "mlp=MLPClassifier(max_iter=500,activation='relu')\n",
        "mlp"
      ],
      "execution_count": null,
      "outputs": [
        {
          "output_type": "execute_result",
          "data": {
            "text/plain": [
              "MLPClassifier(max_iter=500)"
            ]
          },
          "metadata": {},
          "execution_count": 8
        }
      ]
    },
    {
      "cell_type": "code",
      "metadata": {
        "id": "8-N5-ge8Ft9y"
      },
      "source": [
        "MLPModel=mlp.fit(x_train,y_train)\n",
        "MLP_ACC=mlp.score(x_test,y_test)"
      ],
      "execution_count": null,
      "outputs": []
    },
    {
      "cell_type": "code",
      "metadata": {
        "colab": {
          "base_uri": "https://localhost:8080/"
        },
        "id": "HZcwedNvFypV",
        "outputId": "0ccc58f7-3354-4a9f-a51c-04251819d4d3"
      },
      "source": [
        "print(y_test.tolist())\n",
        "print(MLPModel.predict(x_test).tolist())"
      ],
      "execution_count": null,
      "outputs": [
        {
          "output_type": "stream",
          "name": "stdout",
          "text": [
            "[407, 413, 38, 11, 317, 212, 302, 303, 402, 302, 414, 312, 211, 1, 102, 110, 409, 402, 410, 29, 33, 309, 417, 4, 7, 203, 201, 27, 410, 417, 7, 18, 39, 201, 8, 402, 419, 311, 29, 41, 4, 31, 41, 103, 406, 34, 30, 103, 205, 422, 33, 7, 17, 8, 408, 5, 41, 301, 410, 403, 20, 9, 403, 41, 16, 306, 311, 301, 213, 6, 323, 404, 13, 103, 106, 15, 318, 201, 319, 320, 303, 210, 311, 209, 4, 318, 401, 404, 13, 107, 212, 202, 5, 37, 37, 308, 34, 109, 413, 38, 316, 16, 29, 404, 419, 409, 8, 35, 4, 40, 409, 406, 401, 415, 203, 323, 38, 309, 101, 29, 38, 307, 10, 413, 16, 103, 416, 104, 32, 417, 29, 106, 1, 206, 14, 419, 302, 7, 418, 16, 1, 29, 313, 12, 322, 106, 319, 210, 402, 17, 41, 402, 10, 305, 14, 410, 205, 3, 105, 305, 301, 417, 323, 304, 109, 203, 416, 416, 301, 305, 6, 416, 30, 401, 4, 317, 13, 404, 302, 313, 6, 37, 401, 302, 12, 323, 37, 208, 105, 417, 408, 304, 13, 1, 302, 311, 35, 1, 403, 418, 401, 6, 310, 27, 19, 304, 306, 410, 18, 209, 105, 30, 103, 15, 322, 418, 31, 6, 19, 211, 313, 4, 308, 312, 28, 9, 413, 3, 401, 305, 404, 416, 29, 201, 312, 38, 317, 42, 29, 211, 27, 102, 105, 35, 110, 324, 19, 11, 316, 402, 320, 302, 36, 106, 301, 401, 41, 12, 41, 106, 108, 410, 303, 41, 41, 213, 208, 12, 34, 106, 37, 38, 9, 202, 20, 323, 9, 108, 10, 9, 37, 16, 320, 103, 37, 312, 8, 406, 31, 417, 402, 29, 407, 411, 402, 318, 401, 206, 3, 13, 42, 3, 318, 28, 3, 203, 313, 11, 407, 20, 314, 106, 106, 208, 415, 4, 4, 406, 301, 14, 213, 213, 12, 39, 5, 324, 409, 418, 7, 20, 102, 39, 31, 306, 304, 14, 407, 412, 13, 403, 203, 411, 5, 415, 41, 12, 403, 41, 39, 41, 310, 102, 37, 13, 208, 318, 9, 212, 309, 419, 27, 103, 36, 18, 307, 417, 110, 13, 20, 105, 32, 416, 308, 28, 31, 414, 304, 104, 404, 419, 319, 211, 18, 319, 102, 312, 402, 410, 108, 406, 212, 33, 31, 422, 322, 107, 107, 320, 318, 39, 415, 305, 202, 103, 202, 318, 305, 32, 416, 415, 313, 417, 412, 308, 318, 13, 105, 15, 4, 42, 208, 209, 402, 32, 110, 316, 29, 12, 316, 310, 38, 312, 17, 418, 5, 210, 18, 407, 205, 302, 31, 313, 402, 206, 205, 20, 403, 38, 110, 38, 404, 317, 206, 317, 107, 209, 408, 102, 405, 19, 211, 7, 107, 209, 413, 203, 203, 409, 201, 14, 414, 109, 203, 320, 29, 301, 408, 103, 414, 208, 422, 209, 33, 407, 210, 10, 311, 30, 108, 401, 16, 418, 108, 105, 303, 110, 418, 407, 305, 109, 308, 3, 208, 213, 34, 5, 18, 30, 409, 103, 6, 20, 406, 11, 38, 28, 12, 202, 310, 35, 302, 3, 304, 104, 36, 401, 208, 13, 42, 27, 211, 422, 19, 403, 404, 6, 38, 201, 17, 5, 323, 103, 322, 34, 9, 36, 27, 310, 304, 19, 312, 213, 104, 19, 109, 407, 5, 11, 39, 104, 311, 35, 211, 104, 20, 38, 316, 107, 422, 206, 407, 208, 311, 28, 10, 202, 406, 39, 34, 305, 27, 413, 410, 324, 405, 209, 11, 405, 310, 405, 103, 10, 407, 15, 3, 104, 34, 412, 19, 208, 320, 307, 106, 18, 203, 308, 106, 422, 201, 107, 415, 411, 11, 201, 311, 210, 312, 11, 410, 41, 15, 422, 412, 317, 18, 412, 104, 15, 18, 203, 11, 32, 404, 405, 201, 307, 40, 316, 1, 412, 409, 406, 11, 32, 209, 11, 418, 32, 11, 312, 414, 310, 29, 405, 107, 308, 10, 403, 38, 319, 406, 208, 103, 39, 417, 33, 30, 3, 308, 102, 419, 3, 10, 419, 209, 17, 1, 306, 34, 101, 320, 213, 302, 322, 201, 405, 38, 211, 309, 101, 317, 213, 8, 320, 202, 42, 415, 8, 302, 406, 308, 12, 402, 206, 36, 408, 13, 211, 306, 40, 8, 28, 308, 316, 411, 322, 27, 13, 405, 309, 101, 205, 104, 422, 418, 106, 5, 303, 320, 34, 205, 1, 102, 203, 12, 308, 415, 40, 316, 320, 37, 17, 11, 311, 107, 403, 35, 103, 407, 102, 39, 324, 409, 319, 39, 422, 302, 9, 301, 304, 8, 27, 303, 422, 39, 419, 405, 9, 209, 18, 29, 308, 209, 316, 409, 213, 304, 407, 40, 409, 109, 307, 105, 402, 101, 12, 311, 42, 15, 6, 414, 413, 323, 324, 31, 19, 412, 107, 41, 202, 324, 319, 33, 12, 208, 414, 308, 20, 201, 16, 17, 320, 208, 7, 319, 14, 305, 15, 318, 20, 403, 408, 104, 320, 303, 29, 29, 324, 411, 403, 14, 324, 417, 27, 3, 9, 403, 40, 319, 20, 6, 320, 422, 312, 101, 202, 308, 306, 40, 7, 109, 31, 7, 306, 307, 401, 306, 417, 8, 38, 314, 27, 301, 302, 15, 418, 417, 4, 310, 109, 40, 28, 309, 317, 416, 15, 42, 410, 323, 422, 302, 36, 402, 11, 407, 212, 110, 419, 105, 42, 211, 203, 211, 106, 308, 402, 303, 305, 12, 314, 211, 11, 18, 104, 310, 108, 14, 212, 210, 36, 35, 103, 418, 5, 205, 307, 412, 405, 210, 302, 33, 202, 19, 203, 409, 30, 40, 3, 416, 109, 408, 414, 35, 38, 319, 103, 32, 422, 402, 302, 202, 313, 208, 101, 213, 37, 206, 302, 41, 38, 101, 109, 101, 32, 30, 311, 401, 103, 27, 418, 324, 324, 322, 8, 304, 410, 208, 316, 36, 403, 16, 108, 306, 314, 304, 201, 408, 107, 411, 14, 206, 110, 312, 301, 5, 403, 302, 407, 30, 323, 108, 7, 29, 312, 28, 208, 202, 18, 422, 412, 6, 41, 27, 110, 312, 38, 318, 38, 15, 323, 403, 208, 308, 404, 3, 310, 105, 1, 407, 306, 213, 407, 40, 33, 19, 410, 13, 409, 414, 307, 412, 301, 413, 310, 408, 311, 408, 317, 5, 35, 403, 110, 414, 108, 31, 309, 320, 413, 29, 211, 323, 302, 323, 33, 303, 311, 301, 319, 203, 15, 107, 20, 34, 416, 34, 5, 33, 9, 10, 413, 304, 402, 106, 30, 303, 3, 28, 34, 201, 323, 416, 36, 6, 110, 208, 415, 305, 202, 320, 322, 212, 18, 20, 37, 9, 9, 416, 1, 302, 323, 32, 212, 404, 324, 19, 16, 28, 317, 301, 110, 316, 406, 403, 406, 16, 3, 415, 10, 35, 319, 403, 105, 301, 422, 4, 303, 39, 414, 13, 418, 417, 4, 409, 102, 8, 28, 29]\n",
            "[407, 413, 38, 11, 317, 212, 302, 303, 402, 302, 414, 312, 211, 1, 102, 110, 409, 402, 410, 29, 33, 309, 417, 4, 7, 203, 201, 27, 410, 417, 7, 18, 39, 201, 8, 402, 419, 311, 29, 41, 4, 31, 41, 103, 406, 34, 30, 103, 205, 422, 33, 7, 17, 8, 408, 5, 41, 301, 410, 403, 20, 9, 403, 41, 16, 306, 311, 301, 213, 6, 323, 404, 13, 103, 106, 15, 318, 201, 319, 320, 303, 210, 311, 209, 4, 318, 401, 404, 13, 107, 212, 202, 5, 37, 37, 308, 34, 109, 413, 38, 316, 16, 29, 404, 419, 409, 8, 35, 4, 40, 409, 406, 401, 415, 203, 323, 38, 309, 101, 29, 38, 307, 10, 413, 16, 103, 416, 104, 32, 417, 29, 106, 1, 206, 14, 419, 302, 7, 418, 16, 1, 29, 313, 12, 322, 106, 319, 210, 402, 17, 41, 402, 10, 305, 14, 410, 205, 3, 105, 305, 301, 417, 323, 304, 109, 203, 416, 416, 301, 305, 6, 416, 33, 401, 4, 317, 13, 404, 302, 313, 6, 37, 401, 302, 12, 323, 37, 208, 105, 417, 408, 304, 13, 1, 302, 311, 35, 1, 403, 418, 401, 6, 310, 27, 19, 304, 306, 410, 18, 209, 105, 30, 103, 15, 322, 418, 31, 6, 19, 211, 313, 4, 308, 312, 28, 9, 413, 3, 401, 305, 404, 416, 29, 201, 312, 38, 317, 42, 29, 211, 27, 102, 105, 35, 110, 324, 19, 11, 316, 402, 320, 302, 36, 106, 301, 401, 41, 12, 41, 106, 108, 410, 303, 41, 41, 213, 208, 12, 34, 106, 37, 38, 9, 202, 20, 323, 9, 108, 10, 9, 37, 16, 320, 103, 37, 312, 8, 406, 31, 417, 402, 29, 407, 411, 402, 318, 401, 206, 3, 13, 42, 3, 318, 28, 3, 203, 313, 11, 407, 20, 314, 106, 106, 208, 415, 4, 4, 406, 301, 14, 213, 213, 12, 39, 5, 324, 409, 418, 7, 20, 102, 39, 31, 306, 304, 14, 407, 412, 13, 403, 203, 411, 5, 415, 41, 12, 403, 41, 39, 41, 310, 102, 37, 13, 208, 318, 9, 212, 309, 419, 27, 103, 36, 18, 307, 417, 110, 13, 20, 105, 32, 416, 308, 28, 31, 414, 304, 104, 404, 419, 319, 211, 18, 319, 102, 312, 402, 410, 108, 406, 212, 33, 31, 422, 322, 107, 107, 320, 318, 39, 415, 305, 202, 103, 202, 318, 305, 32, 416, 415, 313, 417, 412, 308, 318, 13, 105, 15, 4, 42, 208, 209, 402, 32, 110, 316, 29, 12, 316, 310, 38, 312, 17, 418, 5, 210, 18, 407, 205, 302, 31, 313, 402, 206, 205, 20, 403, 38, 110, 38, 404, 317, 206, 317, 107, 209, 408, 102, 405, 19, 211, 7, 107, 209, 413, 203, 203, 409, 201, 14, 414, 109, 203, 320, 29, 301, 408, 103, 414, 208, 422, 209, 33, 407, 210, 10, 311, 30, 108, 401, 16, 418, 108, 105, 303, 110, 418, 407, 305, 109, 308, 3, 208, 213, 34, 5, 18, 30, 409, 103, 6, 20, 406, 11, 38, 28, 12, 202, 310, 35, 302, 3, 304, 104, 36, 401, 208, 13, 42, 27, 211, 422, 19, 403, 404, 6, 38, 201, 17, 5, 323, 103, 322, 34, 9, 36, 27, 310, 304, 19, 312, 213, 104, 19, 103, 407, 5, 11, 39, 104, 311, 35, 211, 104, 20, 38, 316, 107, 422, 206, 407, 208, 311, 28, 10, 202, 406, 39, 34, 305, 27, 413, 410, 324, 405, 209, 11, 405, 310, 405, 103, 10, 407, 15, 3, 104, 34, 412, 19, 208, 320, 307, 106, 18, 203, 308, 106, 422, 201, 107, 415, 411, 11, 201, 311, 210, 312, 11, 410, 41, 15, 422, 412, 317, 18, 412, 104, 15, 18, 203, 11, 32, 404, 405, 201, 307, 40, 316, 1, 412, 409, 406, 11, 32, 209, 11, 418, 32, 11, 312, 407, 310, 29, 405, 107, 308, 10, 403, 38, 319, 406, 208, 103, 39, 417, 33, 30, 3, 308, 102, 419, 3, 10, 419, 209, 17, 1, 306, 34, 101, 320, 213, 302, 322, 201, 405, 38, 211, 309, 101, 317, 213, 8, 320, 202, 42, 415, 8, 302, 406, 308, 12, 402, 206, 36, 408, 13, 211, 306, 40, 8, 28, 308, 316, 411, 322, 27, 13, 405, 203, 101, 205, 104, 422, 418, 106, 5, 303, 320, 34, 205, 1, 102, 203, 12, 308, 415, 40, 316, 320, 37, 17, 11, 311, 107, 403, 35, 103, 407, 102, 39, 324, 409, 319, 39, 422, 302, 9, 301, 304, 8, 27, 303, 422, 39, 419, 405, 9, 209, 18, 29, 308, 209, 316, 409, 213, 304, 407, 40, 409, 109, 307, 105, 402, 101, 12, 311, 42, 15, 6, 414, 413, 323, 324, 31, 19, 412, 107, 41, 202, 324, 319, 33, 12, 208, 414, 308, 20, 201, 16, 17, 320, 208, 7, 319, 14, 305, 15, 318, 20, 403, 408, 104, 320, 303, 29, 29, 324, 411, 403, 14, 324, 417, 27, 3, 9, 403, 40, 319, 20, 6, 320, 422, 312, 101, 202, 308, 306, 40, 7, 109, 31, 7, 306, 307, 401, 306, 417, 8, 38, 314, 27, 301, 302, 15, 418, 417, 4, 310, 109, 40, 28, 309, 317, 416, 15, 42, 410, 323, 422, 302, 36, 402, 11, 407, 212, 110, 419, 105, 42, 211, 203, 211, 106, 308, 402, 303, 305, 12, 314, 211, 11, 18, 104, 310, 108, 14, 212, 210, 36, 35, 103, 418, 5, 205, 307, 412, 405, 210, 302, 33, 202, 19, 203, 409, 30, 40, 3, 416, 109, 408, 414, 35, 38, 319, 103, 32, 422, 402, 302, 202, 313, 208, 101, 213, 37, 206, 302, 41, 38, 101, 109, 101, 32, 30, 311, 401, 103, 27, 418, 324, 324, 322, 8, 304, 410, 208, 316, 36, 403, 16, 108, 306, 314, 304, 201, 408, 107, 411, 14, 206, 110, 312, 301, 5, 403, 302, 407, 30, 323, 108, 7, 29, 312, 28, 208, 202, 18, 422, 412, 6, 41, 12, 110, 312, 38, 318, 38, 15, 323, 403, 208, 308, 404, 3, 310, 105, 1, 407, 306, 213, 407, 40, 33, 19, 410, 13, 409, 414, 307, 412, 301, 413, 310, 408, 311, 408, 317, 5, 35, 403, 110, 414, 108, 31, 309, 320, 413, 29, 211, 323, 302, 323, 33, 303, 311, 301, 319, 203, 15, 107, 20, 34, 416, 34, 5, 33, 9, 10, 413, 304, 402, 106, 30, 303, 3, 28, 34, 201, 323, 416, 36, 6, 110, 208, 415, 305, 202, 320, 322, 212, 18, 20, 37, 9, 9, 416, 1, 302, 323, 32, 212, 404, 324, 19, 16, 28, 317, 301, 110, 316, 406, 403, 406, 16, 3, 415, 10, 35, 319, 403, 105, 301, 422, 4, 303, 39, 414, 13, 418, 417, 4, 409, 102, 8, 28, 29]\n"
          ]
        }
      ]
    },
    {
      "cell_type": "code",
      "metadata": {
        "colab": {
          "base_uri": "https://localhost:8080/"
        },
        "id": "AXbxcrzOF0y8",
        "outputId": "1061379f-5c23-44a3-e314-b5218598739c"
      },
      "source": [
        "from sklearn.metrics import classification_report,confusion_matrix\n",
        "print(classification_report(y_test,MLPModel.predict(x_test)))"
      ],
      "execution_count": null,
      "outputs": [
        {
          "output_type": "stream",
          "name": "stdout",
          "text": [
            "              precision    recall  f1-score   support\n",
            "\n",
            "           1       1.00      1.00      1.00        10\n",
            "           3       1.00      1.00      1.00        15\n",
            "           4       1.00      1.00      1.00        12\n",
            "           5       1.00      1.00      1.00        13\n",
            "           6       1.00      1.00      1.00        11\n",
            "           7       1.00      1.00      1.00        10\n",
            "           8       1.00      1.00      1.00        11\n",
            "           9       1.00      1.00      1.00        13\n",
            "          10       1.00      1.00      1.00        10\n",
            "          11       1.00      1.00      1.00        15\n",
            "          12       0.93      1.00      0.96        13\n",
            "          13       1.00      1.00      1.00        14\n",
            "          14       1.00      1.00      1.00         9\n",
            "          15       1.00      1.00      1.00        12\n",
            "          16       1.00      1.00      1.00        10\n",
            "          17       1.00      1.00      1.00         7\n",
            "          18       1.00      1.00      1.00        13\n",
            "          19       1.00      1.00      1.00        12\n",
            "          20       1.00      1.00      1.00        13\n",
            "          27       1.00      0.92      0.96        13\n",
            "          28       1.00      1.00      1.00        11\n",
            "          29       1.00      1.00      1.00        18\n",
            "          30       1.00      0.90      0.95        10\n",
            "          31       1.00      1.00      1.00        10\n",
            "          32       1.00      1.00      1.00        10\n",
            "          33       0.91      1.00      0.95        10\n",
            "          34       1.00      1.00      1.00        12\n",
            "          35       1.00      1.00      1.00        10\n",
            "          36       1.00      1.00      1.00         9\n",
            "          37       1.00      1.00      1.00        11\n",
            "          38       1.00      1.00      1.00        19\n",
            "          39       1.00      1.00      1.00        12\n",
            "          40       1.00      1.00      1.00        10\n",
            "          41       1.00      1.00      1.00        16\n",
            "          42       1.00      1.00      1.00         8\n",
            "         101       1.00      1.00      1.00         9\n",
            "         102       1.00      1.00      1.00        10\n",
            "         103       0.94      1.00      0.97        17\n",
            "         104       1.00      1.00      1.00        11\n",
            "         105       1.00      1.00      1.00        11\n",
            "         106       1.00      1.00      1.00        13\n",
            "         107       1.00      1.00      1.00        12\n",
            "         108       1.00      1.00      1.00         9\n",
            "         109       1.00      0.90      0.95        10\n",
            "         110       1.00      1.00      1.00        12\n",
            "         201       1.00      1.00      1.00        13\n",
            "         202       1.00      1.00      1.00        13\n",
            "         203       0.93      1.00      0.97        14\n",
            "         205       1.00      1.00      1.00         7\n",
            "         206       1.00      1.00      1.00         8\n",
            "         208       1.00      1.00      1.00        18\n",
            "         209       1.00      1.00      1.00        11\n",
            "         210       1.00      1.00      1.00         7\n",
            "         211       1.00      1.00      1.00        13\n",
            "         212       1.00      1.00      1.00         8\n",
            "         213       1.00      1.00      1.00        11\n",
            "         301       1.00      1.00      1.00        14\n",
            "         302       1.00      1.00      1.00        20\n",
            "         303       1.00      1.00      1.00        11\n",
            "         304       1.00      1.00      1.00        12\n",
            "         305       1.00      1.00      1.00        11\n",
            "         306       1.00      1.00      1.00        10\n",
            "         307       1.00      1.00      1.00         8\n",
            "         308       1.00      1.00      1.00        16\n",
            "         309       1.00      0.86      0.92         7\n",
            "         310       1.00      1.00      1.00        11\n",
            "         311       1.00      1.00      1.00        13\n",
            "         312       1.00      1.00      1.00        13\n",
            "         313       1.00      1.00      1.00         7\n",
            "         314       1.00      1.00      1.00         4\n",
            "         316       1.00      1.00      1.00        11\n",
            "         317       1.00      1.00      1.00        10\n",
            "         318       1.00      1.00      1.00        10\n",
            "         319       1.00      1.00      1.00        12\n",
            "         320       1.00      1.00      1.00        15\n",
            "         322       1.00      1.00      1.00         8\n",
            "         323       1.00      1.00      1.00        14\n",
            "         324       1.00      1.00      1.00        11\n",
            "         401       1.00      1.00      1.00        12\n",
            "         402       1.00      1.00      1.00        17\n",
            "         403       1.00      1.00      1.00        18\n",
            "         404       1.00      1.00      1.00        11\n",
            "         405       1.00      1.00      1.00        10\n",
            "         406       1.00      1.00      1.00        12\n",
            "         407       0.94      1.00      0.97        16\n",
            "         408       1.00      1.00      1.00        10\n",
            "         409       1.00      1.00      1.00        13\n",
            "         410       1.00      1.00      1.00        12\n",
            "         411       1.00      1.00      1.00         6\n",
            "         412       1.00      1.00      1.00        10\n",
            "         413       1.00      1.00      1.00        10\n",
            "         414       1.00      0.91      0.95        11\n",
            "         415       1.00      1.00      1.00        10\n",
            "         416       1.00      1.00      1.00        12\n",
            "         417       1.00      1.00      1.00        13\n",
            "         418       1.00      1.00      1.00        13\n",
            "         419       1.00      1.00      1.00         9\n",
            "         422       1.00      1.00      1.00        15\n",
            "\n",
            "    accuracy                           1.00      1137\n",
            "   macro avg       1.00      0.99      1.00      1137\n",
            "weighted avg       1.00      1.00      1.00      1137\n",
            "\n"
          ]
        }
      ]
    },
    {
      "cell_type": "code",
      "metadata": {
        "colab": {
          "base_uri": "https://localhost:8080/"
        },
        "id": "mi1RptRdF4oS",
        "outputId": "173296fe-358b-485c-f3ee-9e9035d87fe8"
      },
      "source": [
        "print(\"MLP Accuracy: \",MLP_ACC*100)"
      ],
      "execution_count": null,
      "outputs": [
        {
          "output_type": "stream",
          "name": "stdout",
          "text": [
            "MLP Accuracy:  99.56024626209323\n"
          ]
        }
      ]
    },
    {
      "cell_type": "markdown",
      "metadata": {
        "id": "JJx2V3RDGw3q"
      },
      "source": [
        "**Box Plot**"
      ]
    },
    {
      "cell_type": "code",
      "metadata": {
        "colab": {
          "base_uri": "https://localhost:8080/"
        },
        "id": "eXVWEZ7aHoKl",
        "outputId": "f41e19d2-d3d6-4b62-c884-65d5711e4020"
      },
      "source": [
        "from tqdm import tqdm_notebook\n",
        "%pip install mlxtend --upgrade"
      ],
      "execution_count": null,
      "outputs": [
        {
          "output_type": "stream",
          "name": "stdout",
          "text": [
            "Requirement already satisfied: mlxtend in /usr/local/lib/python3.7/dist-packages (0.14.0)\n",
            "Collecting mlxtend\n",
            "  Downloading mlxtend-0.19.0-py2.py3-none-any.whl (1.3 MB)\n",
            "\u001b[K     |████████████████████████████████| 1.3 MB 5.2 MB/s \n",
            "\u001b[?25hRequirement already satisfied: pandas>=0.24.2 in /usr/local/lib/python3.7/dist-packages (from mlxtend) (1.1.5)\n",
            "Requirement already satisfied: scikit-learn>=0.20.3 in /usr/local/lib/python3.7/dist-packages (from mlxtend) (0.22.2.post1)\n",
            "Requirement already satisfied: numpy>=1.16.2 in /usr/local/lib/python3.7/dist-packages (from mlxtend) (1.19.5)\n",
            "Requirement already satisfied: scipy>=1.2.1 in /usr/local/lib/python3.7/dist-packages (from mlxtend) (1.4.1)\n",
            "Requirement already satisfied: setuptools in /usr/local/lib/python3.7/dist-packages (from mlxtend) (57.4.0)\n",
            "Requirement already satisfied: joblib>=0.13.2 in /usr/local/lib/python3.7/dist-packages (from mlxtend) (1.0.1)\n",
            "Requirement already satisfied: matplotlib>=3.0.0 in /usr/local/lib/python3.7/dist-packages (from mlxtend) (3.2.2)\n",
            "Requirement already satisfied: cycler>=0.10 in /usr/local/lib/python3.7/dist-packages (from matplotlib>=3.0.0->mlxtend) (0.10.0)\n",
            "Requirement already satisfied: kiwisolver>=1.0.1 in /usr/local/lib/python3.7/dist-packages (from matplotlib>=3.0.0->mlxtend) (1.3.2)\n",
            "Requirement already satisfied: pyparsing!=2.0.4,!=2.1.2,!=2.1.6,>=2.0.1 in /usr/local/lib/python3.7/dist-packages (from matplotlib>=3.0.0->mlxtend) (2.4.7)\n",
            "Requirement already satisfied: python-dateutil>=2.1 in /usr/local/lib/python3.7/dist-packages (from matplotlib>=3.0.0->mlxtend) (2.8.2)\n",
            "Requirement already satisfied: six in /usr/local/lib/python3.7/dist-packages (from cycler>=0.10->matplotlib>=3.0.0->mlxtend) (1.15.0)\n",
            "Requirement already satisfied: pytz>=2017.2 in /usr/local/lib/python3.7/dist-packages (from pandas>=0.24.2->mlxtend) (2018.9)\n",
            "Installing collected packages: mlxtend\n",
            "  Attempting uninstall: mlxtend\n",
            "    Found existing installation: mlxtend 0.14.0\n",
            "    Uninstalling mlxtend-0.14.0:\n",
            "      Successfully uninstalled mlxtend-0.14.0\n",
            "Successfully installed mlxtend-0.19.0\n"
          ]
        }
      ]
    },
    {
      "cell_type": "code",
      "metadata": {
        "colab": {
          "resources": {
            "http://localhost:8080/nbextensions/google.colab/files.js": {
              "data": "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",
              "ok": true,
              "headers": [
                [
                  "content-type",
                  "application/javascript"
                ]
              ],
              "status": 200,
              "status_text": "OK"
            }
          },
          "base_uri": "https://localhost:8080/",
          "height": 73
        },
        "id": "faCjppCyLfQX",
        "outputId": "d305abe5-7de7-4acd-cd5f-5b773e3a13fc"
      },
      "source": [
        "from google.colab import files\n",
        "uploaded = files.upload()"
      ],
      "execution_count": null,
      "outputs": [
        {
          "output_type": "display_data",
          "data": {
            "text/html": [
              "\n",
              "     <input type=\"file\" id=\"files-f89a09c7-d61a-4e81-b067-95b12eb04aaa\" name=\"files[]\" multiple disabled\n",
              "        style=\"border:none\" />\n",
              "     <output id=\"result-f89a09c7-d61a-4e81-b067-95b12eb04aaa\">\n",
              "      Upload widget is only available when the cell has been executed in the\n",
              "      current browser session. Please rerun this cell to enable.\n",
              "      </output>\n",
              "      <script src=\"/nbextensions/google.colab/files.js\"></script> "
            ],
            "text/plain": [
              "<IPython.core.display.HTML object>"
            ]
          },
          "metadata": {}
        },
        {
          "output_type": "stream",
          "name": "stdout",
          "text": [
            "Saving visualize_swipe.csv to visualize_swipe.csv\n"
          ]
        }
      ]
    },
    {
      "cell_type": "code",
      "metadata": {
        "id": "gR_vi0bOLkU-"
      },
      "source": [
        "import pandas as pd\n",
        "import numpy as np\n",
        "from sklearn.model_selection import train_test_split\n",
        "visualize=pd.read_csv('visualize_swipe.csv')"
      ],
      "execution_count": null,
      "outputs": []
    },
    {
      "cell_type": "code",
      "metadata": {
        "colab": {
          "base_uri": "https://localhost:8080/",
          "height": 1000,
          "referenced_widgets": [
            "510f0ba798cc450d933a460944416f88",
            "51b3040009744a99a845b6ce8b4868e4",
            "3c3033498fc9459b81e02de5c2284861",
            "45c59c1d64354dfca643f101872a3f78",
            "fff15ca589804755a55c0ee0528d9d42",
            "8e3bcf2d00a8403b8560087249d262e5",
            "d3c8d3a1a10740b983405bfe8cd5581d",
            "7a4dd498d5e7497694705c001e235e1a",
            "dd8bab8f8a054ad89a33a378656e0d5e",
            "d7e85882c3c14b81bc6edc0170765c3a",
            "c3f2176b5251411da04f2cb99e3a3b9c"
          ]
        },
        "id": "W1auoDrPL0Tg",
        "outputId": "ff437942-7c29-43e0-87ce-d8be496b28d6"
      },
      "source": [
        "#Visualizing boxplot\n",
        "import seaborn as sns\n",
        "cols = [\n",
        "        'average_velocity','midstrokenpressure', 'midstrokefingerarea',\n",
        "       'meanpressure', 'meanfingerarea', 'meangx', 'meangy', 'meangz']\n",
        "def boxPlotter(ds, columnName):\n",
        "    sns.catplot(x=\"userid\", y=columnName, data=visualize, kind=\"box\");\n",
        "for column in tqdm_notebook(cols, desc = \"Charts are being ready\"):\n",
        "    boxPlotter(ds, column)\n",
        "\n",
        "#Visualizing piechart\n",
        "def pieChartPlotter(visualize, columnName):\n",
        "    values = visualize[columnName].value_counts()\n",
        "    labels = visualize[columnName].unique()\n",
        "    pie, ax = plt.subplots(figsize=[10, 6])\n",
        "\n",
        "    patches, texts, autotexts = ax.pie(values, labels=labels, autopct='%1.2f%%', shadow=True, pctdistance=.5,explode=[0.06]*visualize[columnName].unique()\n",
        "                                       )\n",
        "\n",
        "    plt.legend(patches, labels, loc=\"best\")\n",
        "    plt.title(columnName, color='white', fontsize=14)\n",
        "    plt.setp(texts, color='white', fontsize=20)\n",
        "    plt.setp(autotexts, size=10, color='black')\n",
        "    autotexts[1].set_color('black')\n",
        "    plt.axis('equal')\n",
        "    plt.tight_layout()\n",
        "    plt.show()\n",
        "\n",
        "#pieChartPlotter(visualize, 'userid')"
      ],
      "execution_count": null,
      "outputs": [
        {
          "output_type": "stream",
          "name": "stderr",
          "text": [
            "/usr/local/lib/python3.7/dist-packages/ipykernel_launcher.py:8: TqdmDeprecationWarning: This function will be removed in tqdm==5.0.0\n",
            "Please use `tqdm.notebook.tqdm` instead of `tqdm.tqdm_notebook`\n",
            "  \n"
          ]
        },
        {
          "output_type": "display_data",
          "data": {
            "application/vnd.jupyter.widget-view+json": {
              "model_id": "510f0ba798cc450d933a460944416f88",
              "version_minor": 0,
              "version_major": 2
            },
            "text/plain": [
              "Charts are being ready:   0%|          | 0/8 [00:00<?, ?it/s]"
            ]
          },
          "metadata": {}
        },
        {
          "output_type": "display_data",
          "data": {
            "image/png": "[encoded data removed]",
            "text/plain": [
              "<Figure size 360x360 with 1 Axes>"
            ]
          },
          "metadata": {
            "needs_background": "light"
          }
        },
        {
          "output_type": "display_data",
          "data": {
            "image/png": "[encoded data removed]",
            "text/plain": [
              "<Figure size 360x360 with 1 Axes>"
            ]
          },
          "metadata": {
            "needs_background": "light"
          }
        },
        {
          "output_type": "display_data",
          "data": {
            "image/png": "[encoded data removed]",
            "text/plain": [
              "<Figure size 360x360 with 1 Axes>"
            ]
          },
          "metadata": {
            "needs_background": "light"
          }
        },
        {
          "output_type": "display_data",
          "data": {
            "image/png": "[encoded data removed]",
            "text/plain": [
              "<Figure size 360x360 with 1 Axes>"
            ]
          },
          "metadata": {
            "needs_background": "light"
          }
        },
        {
          "output_type": "display_data",
          "data": {
            "image/png": "[encoded data removed]",
            "text/plain": [
              "<Figure size 360x360 with 1 Axes>"
            ]
          },
          "metadata": {
            "needs_background": "light"
          }
        },
        {
          "output_type": "display_data",
          "data": {
            "image/png": "[encoded data removed]",
            "text/plain": [
              "<Figure size 360x360 with 1 Axes>"
            ]
          },
          "metadata": {
            "needs_background": "light"
          }
        },
        {
          "output_type": "display_data",
          "data": {
            "image/png": "[encoded data removed]",
            "text/plain": [
              "<Figure size 360x360 with 1 Axes>"
            ]
          },
          "metadata": {
            "needs_background": "light"
          }
        },
        {
          "output_type": "display_data",
          "data": {
            "image/png": "[encoded data removed]",
            "text/plain": [
              "<Figure size 360x360 with 1 Axes>"
            ]
          },
          "metadata": {
            "needs_background": "light"
          }
        }
      ]
    },
    {
      "cell_type": "code",
      "metadata": {
        "colab": {
          "base_uri": "https://localhost:8080/",
          "height": 283
        },
        "id": "P29RH8auQvCI",
        "outputId": "f3b00979-efe2-4077-f28f-a4800438e271"
      },
      "source": [
        "import matplotlib.pyplot as plt\n",
        "y=[50,100,99]\n",
        "x=['LOF','Autoencoder','MLP']\n",
        "plt.bar(x,y,color=['cyan','red','green','blue'])"
      ],
      "execution_count": null,
      "outputs": [
        {
          "output_type": "execute_result",
          "data": {
            "text/plain": [
              "<BarContainer object of 3 artists>"
            ]
          },
          "metadata": {},
          "execution_count": 2
        },
        {
          "output_type": "display_data",
          "data": {
            "image/png": "[encoded data removed]",
            "text/plain": [
              "<Figure size 432x288 with 1 Axes>"
            ]
          },
          "metadata": {
            "needs_background": "light"
          }
        }
      ]
    }
  ]
}